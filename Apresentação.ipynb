{
 "cells": [
  {
   "cell_type": "markdown",
   "id": "878b047c-8214-4772-86cc-d318b0a9a7b5",
   "metadata": {
    "tags": []
   },
   "source": [
    " # Porque aprender python?\n",
    " \n",
    "- É a linguagen que mais tem crescido e ganhado popularidade nos últimos anos\n",
    "- Uma linguagem de programação open source (código aberto)\n",
    "- Tem como um dos maiores diferenciais a facilidade no aprendizado\n",
    "- Extremamente versátil, pode ser utilizada em diversas situações\n",
    "- Comunidade gigante \n"
   ]
  },
  {
   "cell_type": "markdown",
   "id": "e560ae83-7971-4166-ac54-e3f2dc852b30",
   "metadata": {
    "tags": []
   },
   "source": [
    "---"
   ]
  },
  {
   "cell_type": "markdown",
   "id": "5bad38b9-63ef-424d-9f90-d0e5d19b9628",
   "metadata": {
    "tags": []
   },
   "source": [
    "## Sua carreira como programador \n",
    "\n",
    "- <font color='Red'>Automation</font>     &emsp;    (Selenium, Pytest, Pyunit)\n",
    "- <font color='Red'>Web Developer</font>    &emsp;   (Django, Flask, Web2py)\n",
    "- <font color='Red'>Ethical Hackear</font>   &emsp;  (Scapy, Flowgrep, Subbrute)\n",
    "- <font color='Red'>Game Developer</font>   &emsp;   (Pygame, Pyopengl, Kivy)\n",
    "- <font color='Red'>Data Scientist</font>  &emsp;    (Pandas, Numpy, Scikit learn)"
   ]
  },
  {
   "cell_type": "markdown",
   "id": "9fd519e9-d6be-423b-9a8b-d41eeebcff2a",
   "metadata": {
    "tags": []
   },
   "source": [
    "---"
   ]
  },
  {
   "cell_type": "markdown",
   "id": "644e067f-3931-48cc-96f5-cfd06df76cad",
   "metadata": {
    "tags": []
   },
   "source": [
    "## Editor de texto e IDE\n",
    "\n",
    "\n",
    "- <font color='hotpink'>Vim</font> e o <font color='hotpink'>NotePad++</font>\n",
    "- <font color='green'>Atom</font>, <font color='green'>Pycharm</font>, <font color='green'>Sublime</font>, <font color='green'>Jupyter Notebook/Lab</font>, <font color='green'>Visual Studio Code</font> e <font color='green'>**Replit**</font>"
   ]
  },
  {
   "cell_type": "markdown",
   "id": "78f1c039-5f13-41bb-8738-d010d3d31f9a",
   "metadata": {},
   "source": [
    "---"
   ]
  },
  {
   "cell_type": "markdown",
   "id": "199213df-61ff-403a-bee8-54d2a8d87904",
   "metadata": {
    "tags": []
   },
   "source": [
    "## Como python executa o seu codigo ?\n",
    "\n",
    "- Linha por linha, de cima para baixo\n",
    "- Shift + Enter \n",
    "- Botão \"run\"\n",
    "\n",
    "<font color='green'>(Pode mudar de IDE para IDE, isso serve para o Jupyter notebook, Jupyter Lab e Replit)</font>"
   ]
  },
  {
   "cell_type": "markdown",
   "id": "74881ed8-bf6d-4a0e-b567-156a9e63b138",
   "metadata": {
    "tags": []
   },
   "source": [
    "---\n"
   ]
  },
  {
   "cell_type": "markdown",
   "id": "54342136-fbec-435e-afc3-e20bbf72ed90",
   "metadata": {
    "tags": []
   },
   "source": [
    "# Bora começar ?! "
   ]
  },
  {
   "cell_type": "code",
   "execution_count": null,
   "id": "d0b14188-4f4c-44a8-b5ea-070b401c8689",
   "metadata": {
    "tags": []
   },
   "outputs": [],
   "source": [
    "\"\"\"\n",
    "String = Str\n",
    "Integer = Int\n",
    "fraction = float\n",
    "\"\"\"\n",
    "print(\"Olá\")         #String\n",
    "print('Tudo bem?')   #String\n",
    "print(1)             #Int\n",
    "print(1.0)           #Float"
   ]
  },
  {
   "cell_type": "markdown",
   "id": "5249b5a8-c600-497a-96c5-5d0cb0516983",
   "metadata": {},
   "source": [
    "---\n"
   ]
  },
  {
   "cell_type": "markdown",
   "id": "57c65a79-7bcb-4a7d-b379-4d25abe0834e",
   "metadata": {
    "tags": []
   },
   "source": [
    "# Variables"
   ]
  },
  {
   "cell_type": "code",
   "execution_count": null,
   "id": "08c5f725-2da8-4bfd-9c1d-a0dabe58dfc1",
   "metadata": {
    "tags": []
   },
   "outputs": [],
   "source": [
    "x = 'ola' \n",
    "print(x)"
   ]
  },
  {
   "cell_type": "markdown",
   "id": "09ab0cb4-c487-43da-8d60-aec632cc4ded",
   "metadata": {},
   "source": [
    "---"
   ]
  },
  {
   "cell_type": "markdown",
   "id": "aaaa8afb-efc2-460f-a49d-214c83ea4e86",
   "metadata": {
    "tags": []
   },
   "source": [
    "# Modificando os dados"
   ]
  },
  {
   "cell_type": "code",
   "execution_count": null,
   "id": "03ab2b43-909b-4cd9-b032-4f8425f55288",
   "metadata": {
    "tags": []
   },
   "outputs": [],
   "source": [
    "x = str(3)\n",
    "y = int(4)\n",
    "z = float(5)\n",
    "\n",
    "print(x + x)\n",
    "print(y + y)\n",
    "print(z + z)"
   ]
  },
  {
   "cell_type": "markdown",
   "id": "2df45cda-b725-4cd6-8dc5-ec8c8acaf892",
   "metadata": {},
   "source": [
    "---"
   ]
  },
  {
   "cell_type": "markdown",
   "id": "3f0bfe69-1769-4a3d-872d-7b517cd3578a",
   "metadata": {},
   "source": [
    "# Adicionando o Input"
   ]
  },
  {
   "cell_type": "code",
   "execution_count": null,
   "id": "a44450c2-9f35-4813-b674-b1b9c0e38c94",
   "metadata": {},
   "outputs": [],
   "source": [
    "nome = input(\"Qual a seu nome: \")\n",
    "idade = input(\"Qual a sua idade: \")\n",
    "\n",
    "texto = \"O \" + nome + ' tem ' + idade + ' anos e é muito legal'\n",
    "\n",
    "print(texto)"
   ]
  },
  {
   "cell_type": "markdown",
   "id": "a7c574fa-6912-4936-ab04-2f31f7f78cfe",
   "metadata": {},
   "source": [
    "## Formated strings"
   ]
  },
  {
   "cell_type": "code",
   "execution_count": null,
   "id": "791766a4-18c1-42ff-9347-b8aac9c6dd04",
   "metadata": {},
   "outputs": [],
   "source": [
    "nome = input(\"Qual a seu nome: \")\n",
    "idade = input(\"Qual a sua idade: \")\n",
    "\n",
    "texto2 = f\"O {nome} tem {idade} anos e é muito legal\" \n",
    "#f = formatada\n",
    "\n",
    "print(texto2)"
   ]
  },
  {
   "cell_type": "markdown",
   "id": "ba86aae4-9a3e-4175-810f-eb9bf7fbc4f6",
   "metadata": {},
   "source": [
    "---"
   ]
  },
  {
   "cell_type": "markdown",
   "id": "ae193480-190e-4647-9300-e1b04f65de5e",
   "metadata": {},
   "source": [
    "### Desafio !"
   ]
  },
  {
   "cell_type": "code",
   "execution_count": null,
   "id": "8089bfe2-9f73-4189-88a5-9ec118ecc85f",
   "metadata": {},
   "outputs": [],
   "source": [
    "#utilizando o conteudo mostrado hoje, crie um codigo que te pergunte dois numeros, some os numeros e mostre o resultado "
   ]
  },
  {
   "cell_type": "code",
   "execution_count": null,
   "id": "15063794-6cbe-48ed-a1f1-74fc06f6d7c3",
   "metadata": {},
   "outputs": [],
   "source": []
  }
 ],
 "metadata": {
  "kernelspec": {
   "display_name": "Python 3",
   "language": "python",
   "name": "python3"
  },
  "language_info": {
   "codemirror_mode": {
    "name": "ipython",
    "version": 3
   },
   "file_extension": ".py",
   "mimetype": "text/x-python",
   "name": "python",
   "nbconvert_exporter": "python",
   "pygments_lexer": "ipython3",
   "version": "3.8.8"
  },
  "toc-autonumbering": false,
  "toc-showcode": false,
  "toc-showmarkdowntxt": false,
  "toc-showtags": false
 },
 "nbformat": 4,
 "nbformat_minor": 5
}
